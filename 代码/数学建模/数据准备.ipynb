{
 "cells": [
  {
   "cell_type": "code",
   "execution_count": 1,
   "metadata": {
    "id": "6936BA3AC61D452A814936A65EF1AC6F",
    "jupyter": {},
    "scrolled": false,
    "slideshow": {
     "slide_type": "slide"
    },
    "tags": []
   },
   "outputs": [
    {
     "name": "stdout",
     "output_type": "stream",
     "text": [
      "lmy05287549\r\n"
     ]
    }
   ],
   "source": [
    "# 查看当前挂载的数据集目录\n",
    "!ls /home/kesci/input/"
   ]
  },
  {
   "cell_type": "code",
   "execution_count": 2,
   "metadata": {
    "id": "F67298EC45804AAA8383002AF711B316",
    "jupyter": {},
    "scrolled": false,
    "slideshow": {
     "slide_type": "slide"
    },
    "tags": []
   },
   "outputs": [
    {
     "name": "stdout",
     "output_type": "stream",
     "text": [
      "lllmy_province.csv  lmy_tu.csv\t    provincial_flows_1.csv  spark-warehouse\r\n",
      "lmy_Province.csv    lmy_tu.parquet  provincial_flows_2.csv\r\n"
     ]
    }
   ],
   "source": [
    "# 查看个人持久化工作区文件\n",
    "!ls /home/kesci/work/"
   ]
  },
  {
   "cell_type": "code",
   "execution_count": null,
   "metadata": {
    "id": "9C23B31847A14C9D8456E6EA6F9A0DBF",
    "jupyter": {},
    "slideshow": {
     "slide_type": "slide"
    },
    "tags": []
   },
   "outputs": [],
   "source": [
    "# 查看当前kernel下的package\n",
    "!pip list --format=columns"
   ]
  },
  {
   "cell_type": "code",
   "execution_count": null,
   "metadata": {
    "id": "3D2EDD5BC883425C894BF40EBD5CEF03",
    "jupyter": {},
    "slideshow": {
     "slide_type": "slide"
    },
    "tags": []
   },
   "outputs": [],
   "source": [
    "# 显示cell运行时长\n",
    "%load_ext klab-autotime"
   ]
  },
  {
   "cell_type": "code",
   "execution_count": 3,
   "metadata": {
    "id": "ABA2A00BF359411E8CE0AF79E74D43B0",
    "jupyter": {},
    "notebookId": "60b091f6e9d96300170b3f26",
    "scrolled": false,
    "slideshow": {
     "slide_type": "slide"
    },
    "tags": []
   },
   "outputs": [],
   "source": [
    "import pandas as pd\n",
    "import findspark\n",
    "import pyspark\n",
    "from pyspark.sql import SparkSession, functions as F\n",
    "from pyspark.sql.functions import when,udf\n",
    "from pyspark.sql.types import DateType , IntegerType,StringType\n",
    "spark = SparkSession.builder.getOrCreate()"
   ]
  },
  {
   "cell_type": "code",
   "execution_count": 4,
   "metadata": {
    "id": "AB71C226CA4149D8BFA8ECED8F4628FB",
    "jupyter": {},
    "notebookId": "60b091f6e9d96300170b3f26",
    "scrolled": false,
    "slideshow": {
     "slide_type": "slide"
    },
    "tags": []
   },
   "outputs": [
    {
     "name": "stdout",
     "output_type": "stream",
     "text": [
      "+--------+-------------------+----------------+----------+--------+----------+------------------+----------+----------+----------+------------------+----------+----------+--------+\n",
      "|班次代码|           发车时间|      乘车站名称|到达站名称|座位类型|乘车站省份|乘车站行政地理分区|乘车站经度|乘车站纬度|到达站省份|到达站行政地理分区|到达站经度|到达站纬度|    距离|\n",
      "+--------+-------------------+----------------+----------+--------+----------+------------------+----------+----------+----------+------------------+----------+----------+--------+\n",
      "|  KS1057|2020-05-07 01:00:00|苏州北广场汽车站|  常熟南站|       1|    江苏省|              华东|120.608475| 31.330946|    江苏省|              华东| 120.74239| 31.628862|  35.478|\n",
      "|  KS3197|2020-05-07 02:50:00|        苏州南站|  常熟南站|       1|    江苏省|              华东|120.638145|  31.27728|    江苏省|              华东| 120.74239| 31.628862|  40.325|\n",
      "|  GT1001|2020-05-07 09:40:00|          沙溪站|    太仓站|       1|    湖南省|              华中|109.902885| 26.756468|    江苏省|              华东| 121.19665| 31.510124| 1216.72|\n",
      "|  GT1001|2020-05-07 09:40:00|          沙溪站|    太仓站|       1|    湖南省|              华中|109.902885| 26.756468|    江苏省|              华东| 121.19665| 31.510124| 1216.72|\n",
      "|  KT3117|2020-05-07 01:30:00|          朝阳站|  嘉定刷卡|       1|    辽宁省|              东北| 120.44165| 41.578815|    上海市|              华东| 121.19923| 31.369852| 1137.19|\n",
      "|  KS3414|2020-05-07 01:30:00|        苏州南站|    连云港|       1|    江苏省|              华东|120.638145|  31.27728|    江苏省|              华东| 119.22161| 34.596653| 392.042|\n",
      "|  KC1241|2020-05-07 01:30:00|        常熟南站|苏州火车站|       1|    江苏省|              华东| 120.74239| 31.628862|    江苏省|              华东|120.611176| 31.330664|  35.416|\n",
      "|  KC1241|2020-05-07 01:30:00|        常熟南站|苏州火车站|       1|    江苏省|              华东| 120.74239| 31.628862|    江苏省|              华东|120.611176| 31.330664|  35.416|\n",
      "|  KC1241|2020-05-07 01:30:00|        常熟南站|苏州火车站|       1|    江苏省|              华东| 120.74239| 31.628862|    江苏省|              华东|120.611176| 31.330664|  35.416|\n",
      "|  ZS7530|2020-05-07 02:55:00|苏州北广场汽车站|  昆山周庄|       1|    江苏省|              华东|120.608475| 31.330946|    江苏省|              华东| 120.84788| 31.113865|   33.18|\n",
      "|  KS1777|2020-05-07 05:00:00|苏州北广场汽车站|      宁波|       1|    江苏省|              华东|120.608475| 31.330946|    浙江省|              华东|121.550354| 29.874556|  185.34|\n",
      "|  GT1003|2020-05-07 09:40:00|          沙溪站|璜泾镇政府|       1|    湖南省|              华中|109.902885| 26.756468|    江苏省|              华东|  121.1063| 31.649734|1215.008|\n",
      "|  KC1244|2020-05-07 03:00:00|        常熟南站|苏州火车站|       1|    江苏省|              华东| 120.74239| 31.628862|    江苏省|              华东|120.611176| 31.330664|  35.416|\n",
      "|  BZ2106|2020-05-07 03:40:00|      张家港车站|      江阴|       1|    江苏省|              华东| 120.55356|  31.87207|    江苏省|              华东| 120.23927|  31.88964|  29.739|\n",
      "|  KZ2022|2020-05-07 03:20:00|      张家港车站|      无锡|       1|    江苏省|              华东| 120.55356|  31.87207|    江苏省|              华东| 120.31191| 31.491169|  48.132|\n",
      "|  KT1012|2020-05-07 00:30:00|          沙溪站|  杭州北站|       1|    湖南省|              华中|109.902885| 26.756468|    浙江省|              华东| 120.16918| 30.342796|1078.563|\n",
      "|  KC1155|2020-05-07 01:10:00|        常熟南站|杭州中心站|       1|    江苏省|              华东| 120.74239| 31.628862|    浙江省|              华东| 120.17175|   30.2455| 163.166|\n",
      "|  KC1991|2020-05-07 00:20:00|        常熟南站|      东台|       1|    江苏省|              华东| 120.74239| 31.628862|    江苏省|              华东| 120.67086| 32.765774| 126.598|\n",
      "|  KS3966|2020-05-07 03:20:00|苏州北广场汽车站|  扬州西站|       1|    江苏省|              华东|120.608475| 31.330946|    江苏省|              华东| 119.39729|  32.36651| 162.315|\n",
      "|  GW2070|2020-05-07 01:10:00|          吴江站|  上海虹桥|       1|    江苏省|              华东|  120.6388| 31.143126|    上海市|              华东|121.313896| 31.196793|  64.507|\n",
      "+--------+-------------------+----------------+----------+--------+----------+------------------+----------+----------+----------+------------------+----------+----------+--------+\n",
      "only showing top 20 rows\n",
      "\n"
     ]
    },
    {
     "data": {
      "text/plain": [
       "38448537"
      ]
     },
     "execution_count": 4,
     "metadata": {},
     "output_type": "execute_result"
    }
   ],
   "source": [
    "#读入parquet数据\n",
    "df = spark.read.format(\"parquet\").load('/home/kesci/input/lmy05287549/*.parquet')\n",
    "df.show()\n",
    "df.count()"
   ]
  },
  {
   "cell_type": "code",
   "execution_count": 5,
   "metadata": {
    "id": "42C9178DA6D54DD98F5A000AAC254625",
    "jupyter": {},
    "notebookId": "60b091f6e9d96300170b3f26",
    "scrolled": false,
    "slideshow": {
     "slide_type": "slide"
    },
    "tags": []
   },
   "outputs": [
    {
     "name": "stdout",
     "output_type": "stream",
     "text": [
      "+--------+-------------------+----------------+------------+----+-------------+-------+--------------+-------------+-------------+-------+--------------+-------------+-------+\n",
      "|班次代码|           发车时间|    StartStation|ReachStation|Seat|StartProvince|StartAD|StartLongitude|StartLatitude|ReachProvince|ReachAD|ReachLongitude|ReachLatitude|   距离|\n",
      "+--------+-------------------+----------------+------------+----+-------------+-------+--------------+-------------+-------------+-------+--------------+-------------+-------+\n",
      "|  KS1057|2020-05-07 01:00:00|苏州北广场汽车站|    常熟南站|   1|       江苏省|   华东|    120.608475|    31.330946|       江苏省|   华东|     120.74239|    31.628862| 35.478|\n",
      "|  KS3197|2020-05-07 02:50:00|        苏州南站|    常熟南站|   1|       江苏省|   华东|    120.638145|     31.27728|       江苏省|   华东|     120.74239|    31.628862| 40.325|\n",
      "|  GT1001|2020-05-07 09:40:00|          沙溪站|      太仓站|   1|       湖南省|   华中|    109.902885|    26.756468|       江苏省|   华东|     121.19665|    31.510124|1216.72|\n",
      "|  GT1001|2020-05-07 09:40:00|          沙溪站|      太仓站|   1|       湖南省|   华中|    109.902885|    26.756468|       江苏省|   华东|     121.19665|    31.510124|1216.72|\n",
      "|  KT3117|2020-05-07 01:30:00|          朝阳站|    嘉定刷卡|   1|       辽宁省|   东北|     120.44165|    41.578815|       上海市|   华东|     121.19923|    31.369852|1137.19|\n",
      "+--------+-------------------+----------------+------------+----+-------------+-------+--------------+-------------+-------------+-------+--------------+-------------+-------+\n",
      "only showing top 5 rows\n",
      "\n"
     ]
    }
   ],
   "source": [
    "#将需要在sql中用到的变量重新命名\n",
    "df = df.withColumnRenamed(\"乘车站名称\",'StartStation')\n",
    "df = df.withColumnRenamed(\"到达站名称\",'ReachStation')\n",
    "df = df.withColumnRenamed(\"乘车站省份\",'StartProvince')\n",
    "df = df.withColumnRenamed(\"到达站省份\",'ReachProvince')\n",
    "df = df.withColumnRenamed(\"乘车站经度\",'StartLongitude')\n",
    "df = df.withColumnRenamed(\"乘车站纬度\",'StartLatitude')\n",
    "df = df.withColumnRenamed(\"到达站经度\",'ReachLongitude')\n",
    "df = df.withColumnRenamed(\"到达站纬度\",'ReachLatitude')\n",
    "df = df.withColumnRenamed(\"乘车站行政地理分区\",'StartAD')#administrative divisions\n",
    "df = df.withColumnRenamed(\"到达站行政地理分区\",'ReachAD')\n",
    "df = df.withColumnRenamed(\"座位类型\",'Seat')\n",
    "df.show(5)"
   ]
  },
  {
   "cell_type": "code",
   "execution_count": 6,
   "metadata": {
    "id": "01B5D67089C14970865A7E132BB7E64B",
    "jupyter": {},
    "notebookId": "60b091f6e9d96300170b3f26",
    "scrolled": false,
    "slideshow": {
     "slide_type": "slide"
    },
    "tags": []
   },
   "outputs": [],
   "source": [
    "#创建数据本地临时视图\n",
    "df.createOrReplaceTempView('data')"
   ]
  },
  {
   "cell_type": "code",
   "execution_count": 7,
   "metadata": {
    "id": "671D6C9EACB64EA08AAC8079C050C0B7",
    "jupyter": {},
    "notebookId": "60b091f6e9d96300170b3f26",
    "scrolled": false,
    "slideshow": {
     "slide_type": "slide"
    },
    "tags": []
   },
   "outputs": [
    {
     "name": "stdout",
     "output_type": "stream",
     "text": [
      "+---+------------+--------+----------+---------+-------+\n",
      "| id|     Station|Province| Longitude| Latitude|    num|\n",
      "+---+------------+--------+----------+---------+-------+\n",
      "|  1|    苍南西站|  浙江省| 120.38268| 27.49879|1230838|\n",
      "|  2|        温州|  浙江省| 120.69936|27.994267|1196258|\n",
      "|  3|  义乌火车站|  浙江省|120.042786|29.377123| 973030|\n",
      "|  4|    东阳东站|  浙江省| 120.25049|29.259472| 929119|\n",
      "|  5|  无锡客运站|  江苏省| 120.30845|31.592854| 616847|\n",
      "|  6|    萧山机场|  浙江省| 120.43706|30.234344| 613546|\n",
      "|  7|    东阳西站|  浙江省| 120.18615|29.298126| 558542|\n",
      "|  8|  东阳横店站|  浙江省| 120.20354| 29.28787| 505864|\n",
      "|  9|    南通东站|  江苏省| 120.89203|32.004845| 460216|\n",
      "| 10|虹桥长途西站|  江苏省|120.845825| 32.00245| 430529|\n",
      "+---+------------+--------+----------+---------+-------+\n",
      "only showing top 10 rows\n",
      "\n"
     ]
    }
   ],
   "source": [
    "#利用sql语句按照车站汇总车次\n",
    "#SQL语句\n",
    "query = \"\"\"\n",
    "select row_number() over(order by num desc) as id, Station,Province,Longitude,Latitude,num\n",
    "from (\n",
    "    select Station,Province,Longitude,Latitude,sum(num) as num from\n",
    "    (\n",
    "        (select StartStation as Station,StartProvince as Province,\n",
    "        StartLongitude as Longitude,StartLatitude  as Latitude,\n",
    "        count(*) as num from data \n",
    "        group by StartStation,StartProvince,StartLongitude,StartLatitude\n",
    "        order by num desc) \n",
    "        union\n",
    "        (select ReachStation  as Station,  ReachProvince as Province,\n",
    "        ReachLongitude as Longitude,ReachLatitude  as Latitude,\n",
    "        count(*) as num from data \n",
    "        group by ReachStation,ReachProvince,ReachLongitude,ReachLatitude\n",
    "        order by num desc) \n",
    "    )\n",
    "        group by Station,Province,Longitude,Latitude\n",
    "        order by num desc\n",
    "    )\n",
    "\"\"\"\n",
    "Station = spark.sql(query)\n",
    "Station.show(10)\n",
    "#创建视图\n",
    "Station.createOrReplaceTempView('Station')"
   ]
  },
  {
   "cell_type": "code",
   "execution_count": 8,
   "metadata": {
    "id": "89A5F2437565422086D2C4FC1BE84E42",
    "jupyter": {},
    "notebookId": "60b091f6e9d96300170b3f26",
    "scrolled": false,
    "slideshow": {
     "slide_type": "slide"
    },
    "tags": []
   },
   "outputs": [
    {
     "name": "stdout",
     "output_type": "stream",
     "text": [
      "+------------------+-------------------+-------+\n",
      "|      StartStation|       ReachStation|    num|\n",
      "+------------------+-------------------+-------+\n",
      "|          苍南西站|               温州|1101392|\n",
      "|          东阳东站|         义乌火车站| 744609|\n",
      "|          东阳西站|             杭州东| 252622|\n",
      "|        东阳横店站|         义乌火车站| 216571|\n",
      "|        东阳横店站|           萧山机场| 191131|\n",
      "|        昌吉客运站|     乌鲁木齐高铁站| 136342|\n",
      "|        岱山长途站|             宁波南| 136089|\n",
      "|        中川机场站|兰州火车站（1号线）| 132122|\n",
      "|          东阳西站|           萧山机场| 127423|\n",
      "|乌鲁木齐高铁汽车站|         昌吉新客站| 123830|\n",
      "+------------------+-------------------+-------+\n",
      "only showing top 10 rows\n",
      "\n"
     ]
    }
   ],
   "source": [
    "query = \"\"\"\n",
    "select a.Station as StartStation,b.Station as ReachStation, t.num\n",
    "from (\n",
    "select StartStation as src,ReachStation as dst,count(*) as num\n",
    "from data\n",
    "group by StartStation,ReachStation order by num desc ) as t,Station as a,Station as b\n",
    "\n",
    "where t.src = a.Station and t.dst = b.Station\n",
    "order by t.num desc\n",
    "\"\"\"\n",
    "Station_to_Station = spark.sql(query)\n",
    "Station_to_Station.createOrReplaceTempView('Station_to_Station')\n",
    "Station_to_Station.show(10)"
   ]
  },
  {
   "cell_type": "code",
   "execution_count": 9,
   "metadata": {
    "id": "015D1E1229834B6BAF140480F4C64D79",
    "jupyter": {},
    "notebookId": "60b091f6e9d96300170b3f26",
    "scrolled": false,
    "slideshow": {
     "slide_type": "slide"
    },
    "tags": []
   },
   "outputs": [],
   "source": [
    "#下面是以省为单位进行分类汇总"
   ]
  },
  {
   "cell_type": "code",
   "execution_count": 10,
   "metadata": {
    "id": "E5D8A824D183406587BA2A31400D53BD",
    "jupyter": {},
    "notebookId": "60b091f6e9d96300170b3f26",
    "scrolled": false,
    "slideshow": {
     "slide_type": "slide"
    },
    "tags": []
   },
   "outputs": [
    {
     "name": "stdout",
     "output_type": "stream",
     "text": [
      "+----------------+-------------------------+------------------------+--------+-----------+\n",
      "|        Province|station_Longitude_scatter|station_Latitude_scatter|     num|station_num|\n",
      "+----------------+-------------------------+------------------------+--------+-----------+\n",
      "|          江苏省|       1.0181876204590883|      0.9929181389794784|15511581|       1759|\n",
      "|          浙江省|       0.8746601761423658|      0.8953315777361526|13312965|       1672|\n",
      "|          辽宁省|       1.5478593076652218|      0.8918700260517638| 7464466|       2540|\n",
      "|          四川省|       1.5776112682629657|       1.308219043939877| 5387613|       1904|\n",
      "|          贵州省|       1.2774191423452064|      0.9750793504995253| 5357614|       1094|\n",
      "|          广东省|       1.4663641024726444|      0.8213795250488088| 3161787|       3207|\n",
      "|          陕西省|       1.0835063215033525|      1.4754995486523017| 2912935|       1221|\n",
      "|          湖南省|       1.2012502647183145|      1.2002256216924627| 2390135|       1278|\n",
      "|          湖北省|       1.7244434591816606|      0.8121626645233097| 2270828|        952|\n",
      "|新疆维吾尔自治区|        4.379894914780724|       3.041787640587404| 2192240|        387|\n",
      "|          甘肃省|        2.858088856428298|       1.917622963264984| 2010912|        803|\n",
      "|          山东省|       1.8541775321595801|      0.7931805051901278| 1755772|       1676|\n",
      "|          河南省|        1.158074544662592|      1.1289774099862386| 1454795|       1262|\n",
      "|  宁夏回族自治区|       0.4391760577600726|      1.0341777204390064| 1376207|        331|\n",
      "|      西藏自治区|        3.896589125146099|       1.361767083992596| 1341746|        257|\n",
      "|        黑龙江省|        2.731279940623177|       1.590863005120437| 1219275|       1462|\n",
      "|          吉林省|       1.6505373422820369|      1.1685282932597005| 1191712|       1289|\n",
      "|          安徽省|       0.9340269752190979|       1.127713125186223| 1084572|        950|\n",
      "|          海南省|       0.6049196545241053|      0.5825903875970404| 1066387|        300|\n",
      "|          上海市|      0.18139891947055312|       0.188456376941771|  862850|        252|\n",
      "|    内蒙古自治区|        5.465135861992361|      3.2329526746182955|  729455|        882|\n",
      "|          江西省|       1.1207051880844061|      1.2250033474970472|  549667|        908|\n",
      "|          福建省|       0.9355414208397802|      0.9926683662301908|  463656|        876|\n",
      "|          山西省|       0.9511295229396566|      1.4070583166530317|  375171|        565|\n",
      "|  广西壮族自治区|       1.4015078533732075|      1.0796379949835802|  368587|       1129|\n",
      "|          重庆市|       1.1220255087688142|      0.7479690378517583|  326680|        617|\n",
      "|          青海省|       2.4520837283669277|      1.3406551020848902|  266586|        235|\n",
      "|          河北省|       1.6482828259854656|      1.5451315115546091|  221429|        701|\n",
      "|          云南省|       1.9049390312188257|      1.3188863580694072|  164350|        374|\n",
      "|          北京市|       0.3329380840313544|     0.29696166439394955|   76432|        216|\n",
      "|  香港特别行政区|       0.0893379261161924|      0.0483126685406804|   19230|         21|\n",
      "|          天津市|       0.2656030841540972|     0.38639063801411333|    9016|         59|\n",
      "+----------------+-------------------------+------------------------+--------+-----------+\n",
      "only showing top 32 rows\n",
      "\n"
     ]
    }
   ],
   "source": [
    "query = \"\"\"\n",
    "select Province,station_Longitude_scatter,station_Latitude_scatter,num,station_num from(\n",
    "    select Province,\n",
    "    STDDEV(Longitude) as station_Longitude_scatter ,\n",
    "    STDDEV(Latitude) as station_Latitude_scatter,\n",
    "    sum(num) as num,\n",
    "    count(*) as station_num\n",
    "    from Station\n",
    "    group by Province\n",
    "    )\n",
    "    order by num desc\n",
    "\"\"\"\n",
    "res_province = spark.sql(query)\n",
    "res_province.show(32)"
   ]
  },
  {
   "cell_type": "code",
   "execution_count": 13,
   "metadata": {
    "id": "86802EF0E84D44F3A23C61BFF054D101",
    "jupyter": {},
    "notebookId": "60b091f6e9d96300170b3f26",
    "scrolled": false,
    "slideshow": {
     "slide_type": "slide"
    },
    "tags": []
   },
   "outputs": [],
   "source": [
    "res_province.createOrReplaceTempView('res_province')"
   ]
  },
  {
   "cell_type": "code",
   "execution_count": 11,
   "metadata": {
    "id": "80C5D3ED64154B368BF6366FF3A3DA3B",
    "jupyter": {},
    "notebookId": "60b091f6e9d96300170b3f26",
    "scrolled": false,
    "slideshow": {
     "slide_type": "slide"
    },
    "tags": []
   },
   "outputs": [
    {
     "name": "stdout",
     "output_type": "stream",
     "text": [
      "+--------------+-------+-------+-------+-------+-------+\n",
      "|      Province|sseat_1|sseat_2|sseat_3|sseat_4|sseat_9|\n",
      "+--------------+-------+-------+-------+-------+-------+\n",
      "|    西藏自治区| 589329|  87779|      0|      0|    687|\n",
      "|        北京市|    941|      0|      0|      0|    445|\n",
      "|        辽宁省|4078812|     42|      0|      0|   3059|\n",
      "|        浙江省|6690276|     56|      0|      0|  21443|\n",
      "|广西壮族自治区|  45256|    630|    233|      0|  38791|\n",
      "|        海南省| 518404|      0|      0|      0|    286|\n",
      "|        重庆市|  28906|      0|      0|      0|      0|\n",
      "|        河北省|  16532|      0|      0|      0|      0|\n",
      "|        福建省| 148561|      0|      0|      0|      0|\n",
      "|        湖南省|1223240|      0|      0|      0|  41286|\n",
      "|宁夏回族自治区| 723933|      0|      0|      0|      0|\n",
      "|        陕西省|1471044|      1|      0|      0|   3218|\n",
      "|        山西省|  77866|      0|      0|      0|      0|\n",
      "|  内蒙古自治区| 312366|    182|     23|     86|   1386|\n",
      "|        甘肃省| 735983|    995|      0|      0| 249823|\n",
      "|        贵州省|2935917|   2347|      0|      0|     79|\n",
      "|        湖北省|1283581|      0|      0|      0|   1709|\n",
      "|        四川省|2822583|   3746|      0|      0|  40442|\n",
      "|        天津市|    147|      0|      0|      0|      0|\n",
      "|      黑龙江省| 532992|      1|      0|      0|      0|\n",
      "+--------------+-------+-------+-------+-------+-------+\n",
      "only showing top 20 rows\n",
      "\n"
     ]
    }
   ],
   "source": [
    "query = \"\"\"\n",
    "select StartProvince as Province,\n",
    "sum(case when data.Seat=1 then 1 else 0 end) as sseat_1,\n",
    "sum(case when data.Seat=2 then 1 else 0 end) as sseat_2,\n",
    "sum(case when data.Seat=3 then 1 else 0 end) as sseat_3,\n",
    "sum(case when data.Seat=4 then 1 else 0 end) as sseat_4,\n",
    "sum(case when data.Seat=9 then 1 else 0 end) as sseat_9\n",
    "from data\n",
    "group by StartProvince\n",
    "\"\"\"\n",
    "StartStation_seat = spark.sql(query)\n",
    "StartStation_seat.show()\n",
    "StartStation_seat.createOrReplaceTempView('StartStation_seat')"
   ]
  },
  {
   "cell_type": "code",
   "execution_count": 12,
   "metadata": {
    "id": "34E45C210A26414192BBB9285B92A83D",
    "jupyter": {},
    "notebookId": "60b091f6e9d96300170b3f26",
    "scrolled": false,
    "slideshow": {
     "slide_type": "slide"
    },
    "tags": []
   },
   "outputs": [
    {
     "name": "stdout",
     "output_type": "stream",
     "text": [
      "+--------------+-------+-------+-------+-------+-------+\n",
      "|      Province|rseat_1|rseat_2|rseat_3|rseat_4|rseat_9|\n",
      "+--------------+-------+-------+-------+-------+-------+\n",
      "|    西藏自治区| 575251|  87636|      0|      0|   1064|\n",
      "|        北京市|  74442|    182|      3|     68|    351|\n",
      "|        辽宁省|3380770|     26|      0|      0|   1757|\n",
      "|        浙江省|6501181|     12|      7|      0|  99990|\n",
      "|广西壮族自治区| 244635|    520|      9|      0|  38513|\n",
      "|        海南省| 547459|     14|      1|      0|    223|\n",
      "|        重庆市| 289235|    852|      0|      0|   7687|\n",
      "|香港特别行政区|  19215|      0|      1|      0|     14|\n",
      "|        河北省| 203210|      0|     20|     18|   1649|\n",
      "|        福建省| 314379|      1|      4|      0|    714|\n",
      "|        湖南省|1107005|     65|      1|      0|  18544|\n",
      "|宁夏回族自治区| 644169|      0|      0|      0|   8105|\n",
      "|        台湾省|    375|      0|      0|      0|      0|\n",
      "|        陕西省|1428298|    285|      2|      0|  10087|\n",
      "|澳门特别行政区|     29|      0|      0|      0|      0|\n",
      "|        山西省| 296724|      5|     10|      0|    566|\n",
      "|  内蒙古自治区| 412207|     77|    389|    440|   2299|\n",
      "|        甘肃省| 787003|   1047|      1|      0| 236060|\n",
      "|        贵州省|2413373|   1317|      0|      0|   4581|\n",
      "|        湖北省| 982145|      0|      1|      0|   3392|\n",
      "+--------------+-------+-------+-------+-------+-------+\n",
      "only showing top 20 rows\n",
      "\n"
     ]
    }
   ],
   "source": [
    "query = \"\"\"\n",
    "select ReachProvince as Province,\n",
    "sum(case when data.Seat=1 then 1 else 0 end) as rseat_1,\n",
    "sum(case when data.Seat=2 then 1 else 0 end) as rseat_2,\n",
    "sum(case when data.Seat=3 then 1 else 0 end) as rseat_3,\n",
    "sum(case when data.Seat=4 then 1 else 0 end) as rseat_4,\n",
    "sum(case when data.Seat=9 then 1 else 0 end) as rseat_9\n",
    "from data\n",
    "group by ReachProvince\n",
    "\"\"\"\n",
    "ReachStation_seat = spark.sql(query)\n",
    "ReachStation_seat.show()\n",
    "ReachStation_seat.createOrReplaceTempView('ReachStation_seat')"
   ]
  },
  {
   "cell_type": "code",
   "execution_count": 14,
   "metadata": {
    "id": "A79C880E8D9148B7A7F57C15554030BF",
    "jupyter": {},
    "notebookId": "60b091f6e9d96300170b3f26",
    "scrolled": false,
    "slideshow": {
     "slide_type": "slide"
    },
    "tags": []
   },
   "outputs": [
    {
     "name": "stdout",
     "output_type": "stream",
     "text": [
      "+--------------+-------------------------+------------------------+--------+-----------+-------+-------+-------+-------+-------+-------+-------+-------+-------+-------+\n",
      "|      Province|station_Longitude_scatter|station_Latitude_scatter|     num|station_num|sseat_1|sseat_2|sseat_3|sseat_4|sseat_9|rseat_1|rseat_2|rseat_3|rseat_4|rseat_9|\n",
      "+--------------+-------------------------+------------------------+--------+-----------+-------+-------+-------+-------+-------+-------+-------+-------+-------+-------+\n",
      "|    西藏自治区|        3.896589125146099|       1.361767083992596| 1341746|        257| 589329|  87779|      0|      0|    687| 575251|  87636|      0|      0|   1064|\n",
      "|        北京市|       0.3329380840313544|     0.29696166439394955|   76432|        216|    941|      0|      0|      0|    445|  74442|    182|      3|     68|    351|\n",
      "|        辽宁省|       1.5478593076652218|      0.8918700260517638| 7464466|       2540|4078812|     42|      0|      0|   3059|3380770|     26|      0|      0|   1757|\n",
      "|        浙江省|       0.8746601761423658|      0.8953315777361526|13312965|       1672|6690276|     56|      0|      0|  21443|6501181|     12|      7|      0|  99990|\n",
      "|广西壮族自治区|       1.4015078533732075|      1.0796379949835802|  368587|       1129|  45256|    630|    233|      0|  38791| 244635|    520|      9|      0|  38513|\n",
      "|        海南省|       0.6049196545241053|      0.5825903875970404| 1066387|        300| 518404|      0|      0|      0|    286| 547459|     14|      1|      0|    223|\n",
      "|        重庆市|       1.1220255087688142|      0.7479690378517583|  326680|        617|  28906|      0|      0|      0|      0| 289235|    852|      0|      0|   7687|\n",
      "|        河北省|       1.6482828259854656|      1.5451315115546091|  221429|        701|  16532|      0|      0|      0|      0| 203210|      0|     20|     18|   1649|\n",
      "|        福建省|       0.9355414208397802|      0.9926683662301908|  463656|        876| 148561|      0|      0|      0|      0| 314379|      1|      4|      0|    714|\n",
      "|        湖南省|       1.2012502647183145|      1.2002256216924627| 2390135|       1278|1223240|      0|      0|      0|  41286|1107005|     65|      1|      0|  18544|\n",
      "|宁夏回族自治区|       0.4391760577600726|      1.0341777204390064| 1376207|        331| 723933|      0|      0|      0|      0| 644169|      0|      0|      0|   8105|\n",
      "|        陕西省|       1.0835063215033525|      1.4754995486523017| 2912935|       1221|1471044|      1|      0|      0|   3218|1428298|    285|      2|      0|  10087|\n",
      "|        山西省|       0.9511295229396566|      1.4070583166530317|  375171|        565|  77866|      0|      0|      0|      0| 296724|      5|     10|      0|    566|\n",
      "|  内蒙古自治区|        5.465135861992361|      3.2329526746182955|  729455|        882| 312366|    182|     23|     86|   1386| 412207|     77|    389|    440|   2299|\n",
      "|        甘肃省|        2.858088856428298|       1.917622963264984| 2010912|        803| 735983|    995|      0|      0| 249823| 787003|   1047|      1|      0| 236060|\n",
      "|        贵州省|       1.2774191423452064|      0.9750793504995253| 5357614|       1094|2935917|   2347|      0|      0|     79|2413373|   1317|      0|      0|   4581|\n",
      "|        湖北省|       1.7244434591816606|      0.8121626645233097| 2270828|        952|1283581|      0|      0|      0|   1709| 982145|      0|      1|      0|   3392|\n",
      "|        四川省|       1.5776112682629657|       1.308219043939877| 5387613|       1904|2822583|   3746|      0|      0|  40442|2468754|   3409|      4|      0|  48680|\n",
      "|        天津市|       0.2656030841540972|     0.38639063801411333|    9016|         59|    147|      0|      0|      0|      0|   8841|      0|      0|      0|     28|\n",
      "|      黑龙江省|        2.731279940623177|       1.590863005120437| 1219275|       1462| 532992|      1|      0|      0|      0| 684569|      1|      0|      0|   1712|\n",
      "+--------------+-------------------------+------------------------+--------+-----------+-------+-------+-------+-------+-------+-------+-------+-------+-------+-------+\n",
      "only showing top 20 rows\n",
      "\n"
     ]
    }
   ],
   "source": [
    "res_final = res_province.join(StartStation_seat,on=\"Province\")\n",
    "res_final = res_final.join(ReachStation_seat,on=\"Province\")\n",
    "res_final.show()"
   ]
  }
 ],
 "metadata": {
  "kernelspec": {
   "display_name": "Python 3",
   "language": "python",
   "name": "python3"
  },
  "language_info": {
   "codemirror_mode": {
    "name": "ipython",
    "version": 3
   },
   "file_extension": ".py",
   "mimetype": "text/x-python",
   "name": "python",
   "nbconvert_exporter": "python",
   "pygments_lexer": "ipython3",
   "version": "3.8.5"
  }
 },
 "nbformat": 4,
 "nbformat_minor": 1
}
